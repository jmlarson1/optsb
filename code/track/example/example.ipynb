{
 "cells": [
  {
   "cell_type": "markdown",
   "metadata": {},
   "source": [
    "# TRACK Example Execution\n",
    "\n",
    "Here are some basic instructions I used to get `TRACK` to execute via ``wine`` \n",
    "\n",
    "## TRACK files\n",
    "\n",
    "I have a basic install of `wine` on my MAC via `homebrew`\n",
    "\n",
    "I downloaded all the `TRACK` files and windows libraries (.dll) files from here (TBD). I added all of these to the directory \n",
    "\n",
    "```bash\n",
    "/code/track/build \n",
    "```\n",
    "\n",
    "I found I had to include all the .dll files in the same directory as the TRACK exe (I wasn't sure how to set paths in `wine`).\n",
    "\n",
    "To execute TRACK:\n",
    "```bash\n",
    "wine TRACKv39C.exe\n",
    "```\n",
    "\n",
    "This will start to run but fails as input .dat files are needed, i.e. an error will say `track.dat` is missing.\n",
    "\n",
    "## TRACK input\n",
    "\n",
    "The 3 input files required for the example, are in the ``/code/track/example`` directory.\n",
    "```bash\n",
    "track.dat\n",
    "sclinac.dat\n",
    "fi_in.dat\n",
    "```\n",
    "## TRACK run\n",
    "From within the `example` directory I was able to run the executable from the example directory and it found the .dll and .dat files:\n",
    "```bash\n",
    "wine ../build/TRACKv39C.exe\n",
    "0009:fixme:heap:RtlSetHeapInformation 0x2bc0000 0 0x25ee700 4 stub\n",
    "0009:fixme:heap:RtlSetHeapInformation 0x2de0000 0 0x25ee730 4 stub\n",
    "0009:fixme:heap:RtlSetHeapInformation 0x2ef0000 0 0x25efde0 4 stub\n",
    "  Task begin at  Mar 24,2022,16:15:35     \n",
    "    Task end at  Mar 24,2022,16:15:36  \n",
    "```\n",
    "\n",
    "## TRACK output\n",
    "A few strange lines, but it seemed to start and end, and now there are a number of new files:\n",
    "```bash\n",
    "lost.out\n",
    "linac.dat\n",
    "ini_dis.dat\n",
    "matrix.out\n",
    "refp.out\n",
    "beam.out\n",
    "coord.out\n",
    "log.out\n",
    "```\n",
    "\n",
    "which can be compared to the `out_compare` files, for example, the `beam.out` file has the info on the rms and max sizes for each optical element:\n",
    "```bash\n",
    "diff beam.out out_compare/beam.out\n",
    "```\n",
    "returns empty\n"
   ]
  },
  {
   "cell_type": "markdown",
   "metadata": {},
   "source": []
  },
  {
   "cell_type": "markdown",
   "metadata": {},
   "source": []
  }
 ],
 "metadata": {
  "language_info": {
   "name": "python"
  },
  "orig_nbformat": 4
 },
 "nbformat": 4,
 "nbformat_minor": 2
}
