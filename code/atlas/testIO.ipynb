{
 "cells": [
  {
   "cell_type": "code",
   "execution_count": 2,
   "metadata": {},
   "outputs": [],
   "source": [
    "import requests\n",
    "import pandas as pd\n",
    "import os\n",
    "from random import random\n",
    "import time"
   ]
  },
  {
   "cell_type": "markdown",
   "metadata": {},
   "source": [
    "### Run in the terminal: python3.6 api_server.py"
   ]
  },
  {
   "cell_type": "markdown",
   "metadata": {},
   "source": [
    "## Test read from the machine"
   ]
  },
  {
   "cell_type": "code",
   "execution_count": 5,
   "metadata": {},
   "outputs": [
    {
     "name": "stdout",
     "output_type": "stream",
     "text": [
      "<class 'dict'>\n",
      "                         time  \\\n",
      "0  2023-11-08 14:21:11.684055   \n",
      "\n",
      "   setting.control.MOTOR_3_CURRENT_ENCODER_POSITION:MONITOR  \\\n",
      "0                                        -266.985229          \n",
      "\n",
      "   setting.monitor.MOTOR_3_CURRENT_ENCODER_POSITION:MONITOR  \n",
      "0                                        -266.985229         \n"
     ]
    },
    {
     "data": {
      "text/html": [
       "<div>\n",
       "<style scoped>\n",
       "    .dataframe tbody tr th:only-of-type {\n",
       "        vertical-align: middle;\n",
       "    }\n",
       "\n",
       "    .dataframe tbody tr th {\n",
       "        vertical-align: top;\n",
       "    }\n",
       "\n",
       "    .dataframe thead th {\n",
       "        text-align: right;\n",
       "    }\n",
       "</style>\n",
       "<table border=\"1\" class=\"dataframe\">\n",
       "  <thead>\n",
       "    <tr style=\"text-align: right;\">\n",
       "      <th></th>\n",
       "      <th>time</th>\n",
       "      <th>setting.control.MOTOR_3_CURRENT_ENCODER_POSITION:MONITOR</th>\n",
       "      <th>setting.monitor.MOTOR_3_CURRENT_ENCODER_POSITION:MONITOR</th>\n",
       "    </tr>\n",
       "  </thead>\n",
       "  <tbody>\n",
       "    <tr>\n",
       "      <th>0</th>\n",
       "      <td>2023-11-08 14:21:11.684055</td>\n",
       "      <td>-266.985229</td>\n",
       "      <td>-266.985229</td>\n",
       "    </tr>\n",
       "  </tbody>\n",
       "</table>\n",
       "</div>"
      ],
      "text/plain": [
       "                         time  \\\n",
       "0  2023-11-08 14:21:11.684055   \n",
       "\n",
       "   setting.control.MOTOR_3_CURRENT_ENCODER_POSITION:MONITOR  \\\n",
       "0                                        -266.985229          \n",
       "\n",
       "   setting.monitor.MOTOR_3_CURRENT_ENCODER_POSITION:MONITOR  \n",
       "0                                        -266.985229         "
      ]
     },
     "execution_count": 5,
     "metadata": {},
     "output_type": "execute_result"
    }
   ],
   "source": [
    "resp = requests.get('http://146.139.66.23:5000/', json={\n",
    "  \"setting\": [\"MOTOR_3_CURRENT_ENCODER_POSITION:MONITOR\"],\n",
    "  \"fcup\": [],\n",
    "  \"bpm\": []\n",
    "})\n",
    "print(type(resp.json()))\n",
    "#df = pd.DataFrame.from_dict(resp.json())\n",
    "df = pd.json_normalize(resp.json())\n",
    "print(df)\n",
    "df"
   ]
  },
  {
   "cell_type": "code",
   "execution_count": 7,
   "metadata": {},
   "outputs": [
    {
     "name": "stdout",
     "output_type": "stream",
     "text": [
      "Dictionary Post:  {'MOTOR_3_CURRENT_ENCODER_POSITION:MONITOR': -267}\n"
     ]
    }
   ],
   "source": [
    "#top bottom     midplan\n",
    "tval=-259.0\n",
    "bval=-267.0\n",
    "dict_post = {\"MOTOR_5_CURRENT_ENCODER_POSITION:MONITOR\" : tval}\n",
    "print(\"Dictionary Post: \",dict_post)\n",
    "resp_post = requests.post('http://146.139.66.23:5000/', json=dict_post)\n",
    "dict_post = {\"MOTOR_3_CURRENT_ENCODER_POSITION:MONITOR\" : bval}\n",
    "print(\"Dictionary Post: \",dict_post)\n",
    "resp_post = requests.post('http://146.139.66.23:5000/', json=dict_post)"
   ]
  }
 ],
 "metadata": {
  "interpreter": {
   "hash": "31f2aee4e71d21fbe5cf8b01ff0e069b9275f58929596ceb00d14d90e3e16cd6"
  },
  "kernelspec": {
   "display_name": "Python 3.6.9 64-bit",
   "language": "python",
   "name": "python3"
  },
  "language_info": {
   "codemirror_mode": {
    "name": "ipython",
    "version": 3
   },
   "file_extension": ".py",
   "mimetype": "text/x-python",
   "name": "python",
   "nbconvert_exporter": "python",
   "pygments_lexer": "ipython3",
   "version": "3.6.9"
  },
  "vscode": {
   "interpreter": {
    "hash": "b0fa6594d8f4cbf19f97940f81e996739fb7646882a419484c72d19e05852a7e"
   }
  }
 },
 "nbformat": 4,
 "nbformat_minor": 2
}
