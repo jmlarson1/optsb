{
 "cells": [
  {
   "cell_type": "code",
   "execution_count": 8,
   "metadata": {},
   "outputs": [],
   "source": [
    "import requests\n",
    "import pandas as pd\n",
    "import os\n",
    "from random import random\n",
    "import time"
   ]
  },
  {
   "cell_type": "markdown",
   "metadata": {},
   "source": [
    "### Run in the terminal: python3.6 api_server.py"
   ]
  },
  {
   "cell_type": "markdown",
   "metadata": {},
   "source": [
    "## Test read from the machine"
   ]
  },
  {
   "cell_type": "code",
   "execution_count": 13,
   "metadata": {},
   "outputs": [
    {
     "name": "stdout",
     "output_type": "stream",
     "text": [
      "<class 'dict'>\n",
      "                         time  setting.control.QTA800:CONTROL_X1  \\\n",
      "0  2022-12-01 21:36:39.662104                           7.525001   \n",
      "\n",
      "   setting.monitor.QTA800:CONTROL_X1  \n",
      "0                           7.487172  \n"
     ]
    }
   ],
   "source": [
    "resp = requests.get('http://146.139.66.23:5000/', json={\n",
    "  \"setting\": [\"QTA800:CONTROL_X1\"],\n",
    "  \"fcup\": [],\n",
    "  \"bpm\": []\n",
    "})\n",
    "print(type(resp.json()))\n",
    "#df = pd.DataFrame.from_dict(resp.json())\n",
    "df = pd.json_normalize(resp.json())\n",
    "print(df)"
   ]
  }
 ],
 "metadata": {
  "interpreter": {
   "hash": "31f2aee4e71d21fbe5cf8b01ff0e069b9275f58929596ceb00d14d90e3e16cd6"
  },
  "kernelspec": {
   "display_name": "Python 3.6.9 64-bit",
   "language": "python",
   "name": "python3"
  },
  "language_info": {
   "codemirror_mode": {
    "name": "ipython",
    "version": 3
   },
   "file_extension": ".py",
   "mimetype": "text/x-python",
   "name": "python",
   "nbconvert_exporter": "python",
   "pygments_lexer": "ipython3",
   "version": "3.6.9"
  },
  "vscode": {
   "interpreter": {
    "hash": "b0fa6594d8f4cbf19f97940f81e996739fb7646882a419484c72d19e05852a7e"
   }
  }
 },
 "nbformat": 4,
 "nbformat_minor": 2
}
