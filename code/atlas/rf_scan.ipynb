{
 "cells": [
  {
   "cell_type": "code",
   "execution_count": 1,
   "metadata": {},
   "outputs": [],
   "source": [
    "import requests\n",
    "import pandas as pd\n",
    "import os\n",
    "from random import random\n",
    "import time"
   ]
  },
  {
   "cell_type": "code",
   "execution_count": 2,
   "metadata": {},
   "outputs": [
    {
     "name": "stdout",
     "output_type": "stream",
     "text": [
      "Dictionary Post:  {'R501:CONTROL_AMP': 2.0}\n"
     ]
    }
   ],
   "source": [
    "#choose device, and ranges\n",
    "setting_list = [\"R501:PHASEB\",\"R501:CONTROL_AMP\"]\n",
    "degree = 0.0\n",
    "min_degree = 205\n",
    "max_degree = 225\n",
    "amplitude = 3.0\n",
    "dict_post = {\"R501:CONTROL_AMP\" : amplitude}\n",
    "print(\"Dictionary Post: \",dict_post)"
   ]
  },
  {
   "cell_type": "code",
   "execution_count": 8,
   "metadata": {},
   "outputs": [
    {
     "name": "stdout",
     "output_type": "stream",
     "text": [
      "Dictionary Post:  {'R501:PHASEB': 208}\n",
      "Monitor:  setting.monitor.R501:PHASEB 208.0\n",
      "Control:  setting.control.R501:PHASEB 208.0\n",
      "Monitor:  setting.monitor.R501:CONTROL_AMP 0.0\n",
      "Control:  setting.control.R501:CONTROL_AMP 0.0\n",
      "Dictionary Post:  {'R501:PHASEB': 209}\n",
      "Monitor:  setting.monitor.R501:PHASEB 209.0\n",
      "Control:  setting.control.R501:PHASEB 209.0\n",
      "Monitor:  setting.monitor.R501:CONTROL_AMP 0.0\n",
      "Control:  setting.control.R501:CONTROL_AMP 0.0\n",
      "Dictionary Post:  {'R501:PHASEB': 210}\n",
      "Monitor:  setting.monitor.R501:PHASEB 210.0\n",
      "Control:  setting.control.R501:PHASEB 210.0\n",
      "Monitor:  setting.monitor.R501:CONTROL_AMP 0.0\n",
      "Control:  setting.control.R501:CONTROL_AMP 0.0\n",
      "Dictionary Post:  {'R501:PHASEB': 211}\n",
      "Monitor:  setting.monitor.R501:PHASEB 211.0\n",
      "Control:  setting.control.R501:PHASEB 211.0\n",
      "Monitor:  setting.monitor.R501:CONTROL_AMP 0.0\n",
      "Control:  setting.control.R501:CONTROL_AMP 0.0\n",
      "Dictionary Post:  {'R501:PHASEB': 212}\n",
      "Monitor:  setting.monitor.R501:PHASEB 212.0\n",
      "Control:  setting.control.R501:PHASEB 212.0\n",
      "Monitor:  setting.monitor.R501:CONTROL_AMP 0.0\n",
      "Control:  setting.control.R501:CONTROL_AMP 0.0\n",
      "Dictionary Post:  {'R501:PHASEB': 213}\n",
      "Monitor:  setting.monitor.R501:PHASEB 213.0\n",
      "Control:  setting.control.R501:PHASEB 213.0\n",
      "Monitor:  setting.monitor.R501:CONTROL_AMP 0.0\n",
      "Control:  setting.control.R501:CONTROL_AMP 0.0\n",
      "Dictionary Post:  {'R501:PHASEB': 214}\n",
      "Monitor:  setting.monitor.R501:PHASEB 214.0\n",
      "Control:  setting.control.R501:PHASEB 214.0\n",
      "Monitor:  setting.monitor.R501:CONTROL_AMP 0.0\n",
      "Control:  setting.control.R501:CONTROL_AMP 0.0\n",
      "Dictionary Post:  {'R501:PHASEB': 215}\n",
      "Monitor:  setting.monitor.R501:PHASEB 215.0\n",
      "Control:  setting.control.R501:PHASEB 215.0\n",
      "Monitor:  setting.monitor.R501:CONTROL_AMP 0.0\n",
      "Control:  setting.control.R501:CONTROL_AMP 0.0\n",
      "Dictionary Post:  {'R501:PHASEB': 216}\n",
      "Monitor:  setting.monitor.R501:PHASEB 216.0\n",
      "Control:  setting.control.R501:PHASEB 216.0\n",
      "Monitor:  setting.monitor.R501:CONTROL_AMP 0.0\n",
      "Control:  setting.control.R501:CONTROL_AMP 0.0\n",
      "Dictionary Post:  {'R501:PHASEB': 217}\n",
      "Monitor:  setting.monitor.R501:PHASEB 217.0\n",
      "Control:  setting.control.R501:PHASEB 217.0\n",
      "Monitor:  setting.monitor.R501:CONTROL_AMP 0.0\n",
      "Control:  setting.control.R501:CONTROL_AMP 0.0\n",
      "Dictionary Post:  {'R501:PHASEB': 218}\n",
      "Monitor:  setting.monitor.R501:PHASEB 218.0\n",
      "Control:  setting.control.R501:PHASEB 218.0\n",
      "Monitor:  setting.monitor.R501:CONTROL_AMP 0.0\n",
      "Control:  setting.control.R501:CONTROL_AMP 0.0\n",
      "Dictionary Post:  {'R501:PHASEB': 219}\n",
      "Monitor:  setting.monitor.R501:PHASEB 219.0\n",
      "Control:  setting.control.R501:PHASEB 219.0\n",
      "Monitor:  setting.monitor.R501:CONTROL_AMP 0.0\n",
      "Control:  setting.control.R501:CONTROL_AMP 0.0\n",
      "Dictionary Post:  {'R501:PHASEB': 220}\n",
      "Monitor:  setting.monitor.R501:PHASEB 220.0\n",
      "Control:  setting.control.R501:PHASEB 220.0\n",
      "Monitor:  setting.monitor.R501:CONTROL_AMP 0.0\n",
      "Control:  setting.control.R501:CONTROL_AMP 0.0\n",
      "Dictionary Post:  {'R501:PHASEB': 221}\n",
      "Monitor:  setting.monitor.R501:PHASEB 221.0\n",
      "Control:  setting.control.R501:PHASEB 221.0\n",
      "Monitor:  setting.monitor.R501:CONTROL_AMP 0.0\n",
      "Control:  setting.control.R501:CONTROL_AMP 0.0\n",
      "Dictionary Post:  {'R501:PHASEB': 222}\n",
      "Monitor:  setting.monitor.R501:PHASEB 222.0\n",
      "Control:  setting.control.R501:PHASEB 222.0\n",
      "Monitor:  setting.monitor.R501:CONTROL_AMP 0.0\n",
      "Control:  setting.control.R501:CONTROL_AMP 0.0\n",
      "Dictionary Post:  {'R501:PHASEB': 223}\n",
      "Monitor:  setting.monitor.R501:PHASEB 223.0\n",
      "Control:  setting.control.R501:PHASEB 223.0\n",
      "Monitor:  setting.monitor.R501:CONTROL_AMP 0.0\n",
      "Control:  setting.control.R501:CONTROL_AMP 0.0\n",
      "Dictionary Post:  {'R501:PHASEB': 224}\n",
      "Monitor:  setting.monitor.R501:PHASEB 224.0\n",
      "Control:  setting.control.R501:PHASEB 224.0\n",
      "Monitor:  setting.monitor.R501:CONTROL_AMP 0.0\n",
      "Control:  setting.control.R501:CONTROL_AMP 0.0\n"
     ]
    }
   ],
   "source": [
    "#phase scan\n",
    "resp_post = requests.post('http://146.139.66.23:5000/', json=dict_post)\n",
    "\n",
    "for i in range(max_degree-min_degree):\n",
    "    degree = i + min_degree\n",
    "    dict_post = {\"R501:PHASEB\" : degree}\n",
    "    print(\"Dictionary Post: \",dict_post)\n",
    "    resp_post = requests.post('http://146.139.66.23:5000/', json=dict_post)\n",
    "    #degree += 1\n",
    "    time.sleep(10)\n",
    "    for names in setting_list:\n",
    "        resp = requests.get('http://146.139.66.23:5000/', json={\n",
    "                \"setting\": [names],\n",
    "                \"fcup\": [],\n",
    "                \"bpm\": [] })\n",
    "        df = pd.json_normalize(resp.json())\n",
    "        temp_cntrl_name = \"setting.control.\" + names\n",
    "        temp_mon_name = \"setting.monitor.\" + names\n",
    "        print(\"Monitor: \",temp_mon_name,df[temp_mon_name].iat[0])\n",
    "        print(\"Control: \",temp_cntrl_name,df[temp_mon_name].iat[0])\n",
    "        dbwrite = \"influx -execute \\'insert bl,tag={} value={}\\' -database=db\".format(temp_cntrl_name,df[temp_cntrl_name].iat[0])\n",
    "        os.system(dbwrite)\n",
    "        dbwrite = \"influx -execute \\'insert bl,tag={} value={}\\' -database=db\".format(temp_mon_name,df[temp_mon_name].iat[0])\n",
    "        os.system(dbwrite)"
   ]
  },
  {
   "cell_type": "code",
   "execution_count": 19,
   "metadata": {},
   "outputs": [
    {
     "name": "stdout",
     "output_type": "stream",
     "text": [
      "Dictionary Post:  {'R501:PHASEB': 212}\n",
      "Dictionary Post:  {'R501:CONTROL_AMP': 3}\n"
     ]
    }
   ],
   "source": [
    "#set any fixed paramters\n",
    "dict_post = {\"R501:PHASEB\" : 212}\n",
    "print(\"Dictionary Post: \",dict_post)\n",
    "resp_post = requests.post('http://146.139.66.23:5000/', json=dict_post)\n",
    "dict_post = {\"R501:CONTROL_AMP\" : 3}\n",
    "print(\"Dictionary Post: \",dict_post)\n",
    "resp_post = requests.post('http://146.139.66.23:5000/', json=dict_post)"
   ]
  },
  {
   "cell_type": "code",
   "execution_count": null,
   "metadata": {},
   "outputs": [],
   "source": [
    "#get current sweeper values\n",
    "setting_list = [\"R501:PHASEB\",\"R501:CONTROL_AMP\"]\n",
    "for names in setting_list:\n",
    "        resp = requests.get('http://146.139.66.23:5000/', json={\n",
    "                \"setting\": [names],\n",
    "                \"fcup\": [],\n",
    "                \"bpm\": [] })\n",
    "        df = pd.json_normalize(resp.json())\n",
    "        temp_cntrl_name = \"setting.control.\" + names\n",
    "        temp_mon_name = \"setting.monitor.\" + names\n",
    "        print(\"Monitor: \",temp_mon_name,df[temp_mon_name].iat[0])\n",
    "        print(\"Control: \",temp_cntrl_name,df[temp_mon_name].iat[0])\n",
    "        dbwrite = \"influx -execute \\'insert bl,tag={} value={}\\' -database=db\".format(temp_cntrl_name,df[temp_cntrl_name].iat[0])\n",
    "        os.system(dbwrite)\n",
    "        dbwrite = \"influx -execute \\'insert bl,tag={} value={}\\' -database=db\".format(temp_mon_name,df[temp_mon_name].iat[0])\n",
    "        os.system(dbwrite)"
   ]
  },
  {
   "cell_type": "code",
   "execution_count": null,
   "metadata": {},
   "outputs": [],
   "source": [
    "#adj\n",
    "\n",
    "dict_post = {\"R501:PHASEB\" : degree}\n",
    "print(\"Dictionary Post: \",dict_post)\n",
    "resp_post = requests.post('http://146.139.66.23:5000/', json=dict_post)"
   ]
  }
 ],
 "metadata": {
  "interpreter": {
   "hash": "31f2aee4e71d21fbe5cf8b01ff0e069b9275f58929596ceb00d14d90e3e16cd6"
  },
  "kernelspec": {
   "display_name": "Python 3.6.9 64-bit",
   "language": "python",
   "name": "python3"
  },
  "language_info": {
   "codemirror_mode": {
    "name": "ipython",
    "version": 3
   },
   "file_extension": ".py",
   "mimetype": "text/x-python",
   "name": "python",
   "nbconvert_exporter": "python",
   "pygments_lexer": "ipython3",
   "version": "3.6.9 (default, Mar 15 2022, 13:55:28) \n[GCC 8.4.0]"
  },
  "vscode": {
   "interpreter": {
    "hash": "b0fa6594d8f4cbf19f97940f81e996739fb7646882a419484c72d19e05852a7e"
   }
  }
 },
 "nbformat": 4,
 "nbformat_minor": 2
}
