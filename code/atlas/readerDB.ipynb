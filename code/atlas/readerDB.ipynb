{
 "cells": [
  {
   "cell_type": "markdown",
   "metadata": {},
   "source": [
    "### Make sure to run in the ATLAS controls ACS023 terminal via controlsys login: python3.6 api_server.py"
   ]
  },
  {
   "cell_type": "markdown",
   "metadata": {},
   "source": [
    "## Start of good code to run loops to collect data"
   ]
  },
  {
   "cell_type": "code",
   "execution_count": 1,
   "metadata": {},
   "outputs": [],
   "source": [
    "#settings / loading\n",
    "import requests\n",
    "import pandas as pd\n",
    "import os\n",
    "from random import random\n",
    "import time\n",
    "write2database = True #write to influx?\n",
    "post_settings = False #whether to send new magnet settings\n",
    "setting_list = [\"QTA800:CONTROL_Y1\",\"QTA800:CONTROL_X1\",\"QTA800:CONTROL_Y2\",\n",
    "                \"STA801:CONTROL_X\",\"STA801:CONTROL_Y\",\n",
    "                \"QDA800:CONTROL_X\",\"QDA800:CONTROL_Y\",\n",
    "                \"MGA002:CONTROL\",\n",
    "                \"QDA002:CONTROL_X\",\"QDA002:CONTROL_Y\",\n",
    "                \"STA004:CONTROL_X\",\"STA004:CONTROL_Y\",\n",
    "                \"QDA001:CONTROL_X\",\"QDA001:CONTROL_Y\",\n",
    "                \"MGA001:CONTROL\",\n",
    "                \"QTA001:CONTROL_X1\",\"QTA001:CONTROL_X2\",\"QTA001:CONTROL_Y\",\n",
    "                \"STA003:CONTROL_X\",\"STA003:CONTROL_Y\",\n",
    "                \"STA002:CONTROL_X\",\"STA002:CONTROL_Y\",\n",
    "                \"STA001:CONTROL_X\",\"STA001:CONTROL_Y\"] #which magnets to read\n",
    "#setting_list = [\"R501:PHASEB\",\"R501:CONTROL_AMP\"]\n",
    "max_vals = [10.0,15.0,20.0,1.5,1.5] #max field setting for bl magnets\n",
    "min_vals = [0.5,0.5,0.5,-1.5,-1.5]\n",
    "off_vals = [0.0,0.0,0.0,-1.1,-1.1]\n",
    "delta_vals = [0.5,0.5,0.5,0.02,0.02] #amount by which to change \n",
    "orig_vals = [4.051278,5.904756,5.272509,-1.036212,0.827078] #initial tune settings before scans\n",
    "num_loops = 10000 #finite numer of samples if using\n",
    "num_samples = 2 #times to measure the quads before changing them # not used at present"
   ]
  },
  {
   "cell_type": "code",
   "execution_count": 2,
   "metadata": {},
   "outputs": [
    {
     "name": "stdout",
     "output_type": "stream",
     "text": [
      "On Loop Number:  0\n",
      "Monitor:  setting.monitor.QTA800:CONTROL_Y1 3.0183119773864746\n",
      "Monitor:  setting.monitor.QTA800:CONTROL_X1 6.0586018562316895\n",
      "Monitor:  setting.monitor.QTA800:CONTROL_Y2 7.1479644775390625\n",
      "Monitor:  setting.monitor.STA801:CONTROL_X 0.39797067642211914\n",
      "Monitor:  setting.monitor.STA801:CONTROL_Y 1.1516659259796143\n",
      "Monitor:  setting.monitor.QDA800:CONTROL_X 5.738879680633545\n",
      "Monitor:  setting.monitor.QDA800:CONTROL_Y 9.428159713745117\n",
      "Monitor:  setting.monitor.MGA002:CONTROL 24.809999465942383\n",
      "Monitor:  setting.monitor.QDA002:CONTROL_X 3.989579916000366\n",
      "Monitor:  setting.monitor.QDA002:CONTROL_Y 3.797499895095825\n",
      "Monitor:  setting.monitor.STA004:CONTROL_X -1.1437220573425293\n",
      "Monitor:  setting.monitor.STA004:CONTROL_Y -0.6343321800231934\n",
      "Monitor:  setting.monitor.QDA001:CONTROL_X 6.831620216369629\n",
      "Monitor:  setting.monitor.QDA001:CONTROL_Y 5.016510009765625\n",
      "Monitor:  setting.monitor.MGA001:CONTROL -1.2949999570846558\n",
      "Monitor:  setting.monitor.QTA001:CONTROL_X1 11.975066184997559\n",
      "Monitor:  setting.monitor.QTA001:CONTROL_X2 6.652814865112305\n",
      "Monitor:  setting.monitor.QTA001:CONTROL_Y 8.593728065490723\n",
      "Monitor:  setting.monitor.STA003:CONTROL_X 0.12630748748779297\n",
      "Monitor:  setting.monitor.STA003:CONTROL_Y 1.892690896987915\n",
      "Monitor:  setting.monitor.STA002:CONTROL_X 0.6145453453063965\n",
      "Monitor:  setting.monitor.STA002:CONTROL_Y -3.142845630645752\n",
      "Monitor:  setting.monitor.STA001:CONTROL_X -0.7558040618896484\n",
      "Monitor:  setting.monitor.STA001:CONTROL_Y -0.5799798965454102\n"
     ]
    }
   ],
   "source": [
    "#initial read and need to save in df idealy\n",
    "for loops in range(1):\n",
    "    print(\"On Loop Number: \",loops)\n",
    "    i=0\n",
    "    for names in setting_list:\n",
    "    #print(names)\n",
    "        #read present setting\n",
    "        if (write2database):\n",
    "            #for names in setting_list:\n",
    "            #read new settings\n",
    "            resp = requests.get('http://146.139.66.23:5000/', json={\n",
    "            \"setting\": [names],\n",
    "            \"fcup\": [],\n",
    "            \"bpm\": [] })\n",
    "            df = pd.json_normalize(resp.json())\n",
    "            temp_cntrl_name = \"setting.control.\" + names\n",
    "            temp_mon_name = \"setting.monitor.\" + names\n",
    "            print(\"Monitor: \",temp_mon_name,df[temp_mon_name].iat[0])\n",
    "            dbwrite = \"influx -execute \\'insert bl,tag={} value={}\\' -database=db\".format(temp_cntrl_name,df[temp_cntrl_name].iat[0])\n",
    "            os.system(dbwrite)\n",
    "            dbwrite = \"influx -execute \\'insert bl,tag={} value={}\\' -database=db\".format(temp_mon_name,df[temp_mon_name].iat[0])\n",
    "            os.system(dbwrite)\n",
    "    time.sleep(5) #time to see detector rates"
   ]
  },
  {
   "cell_type": "code",
   "execution_count": null,
   "metadata": {},
   "outputs": [],
   "source": [
    "# constant running loop with option to modify and read\n",
    "#right now changes one element at a time then reads\n",
    "for loops in range(num_loops):\n",
    "    print(\"On Loop Number: \",loops)\n",
    "    i=0\n",
    "    for names in setting_list:\n",
    "    #print(names)\n",
    "        #read present setting\n",
    "        if (post_settings):\n",
    "            resp = requests.get('http://146.139.66.23:5000/', json={\n",
    "            \"setting\": [names],\n",
    "            \"fcup\": [],\n",
    "            \"bpm\": [] })\n",
    "            df = pd.json_normalize(resp.json())\n",
    "            temp_cntrl_name = \"setting.control.\" + names\n",
    "            temp_mon_name = \"setting.monitor.\" + names\n",
    "            new = 0.0\n",
    "            delta = 0.0\n",
    "            #calculate new setting and post it\n",
    "            delta=random()*delta_vals[i]#could be modified\n",
    "            if random() < 0.55:\n",
    "                new = df[temp_mon_name].iat[0] + delta #use monitor value\n",
    "            else:\n",
    "                new = df[temp_mon_name].iat[0] - delta #use monitor value\n",
    "            #check to make sure within min/max\n",
    "            if new > max_vals[i] or new < min_vals[i]:\n",
    "                new = orig_vals[i]\n",
    "            if loops%40 == 0:\n",
    "                new = orig_vals[i]\n",
    "            dict_post = {names : new}\n",
    "            print(\"Dictionary Post: \",dict_post)\n",
    "            # uncomment below for actual post!!!\n",
    "            #resp_post = requests.post('http://146.139.66.23:5000/', json=dict_post)\n",
    "            i=i+1\n",
    "            time.sleep(2) #wait after post\n",
    "\n",
    "        if (write2database):\n",
    "            #for names in setting_list:\n",
    "            #read new settings\n",
    "            resp = requests.get('http://146.139.66.23:5000/', json={\n",
    "            \"setting\": [names],\n",
    "            \"fcup\": [],\n",
    "            \"bpm\": [] })\n",
    "            df = pd.json_normalize(resp.json())\n",
    "            temp_cntrl_name = \"setting.control.\" + names\n",
    "            temp_mon_name = \"setting.monitor.\" + names\n",
    "            #print(\"Monitor: \",temp_mon_name,df[temp_mon_name].iat[0])\n",
    "            dbwrite = \"influx -execute \\'insert bl,tag={} value={}\\' -database=db\".format(temp_cntrl_name,df[temp_cntrl_name].iat[0])\n",
    "            os.system(dbwrite)\n",
    "            dbwrite = \"influx -execute \\'insert bl,tag={} value={}\\' -database=db\".format(temp_mon_name,df[temp_mon_name].iat[0])\n",
    "            os.system(dbwrite)\n",
    "    time.sleep(5) #time to see detector rates"
   ]
  }
 ],
 "metadata": {
  "interpreter": {
   "hash": "31f2aee4e71d21fbe5cf8b01ff0e069b9275f58929596ceb00d14d90e3e16cd6"
  },
  "kernelspec": {
   "display_name": "Python 3.6.9 64-bit",
   "language": "python",
   "name": "python3"
  },
  "language_info": {
   "codemirror_mode": {
    "name": "ipython",
    "version": 3
   },
   "file_extension": ".py",
   "mimetype": "text/x-python",
   "name": "python",
   "nbconvert_exporter": "python",
   "pygments_lexer": "ipython3",
   "version": "3.6.9"
  },
  "vscode": {
   "interpreter": {
    "hash": "b0fa6594d8f4cbf19f97940f81e996739fb7646882a419484c72d19e05852a7e"
   }
  }
 },
 "nbformat": 4,
 "nbformat_minor": 2
}
