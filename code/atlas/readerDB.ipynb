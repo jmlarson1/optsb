{
 "cells": [
  {
   "cell_type": "markdown",
   "metadata": {},
   "source": [
    "### Make sure to run in the ATLAS controls ACS023 terminal via controlsys login: python3.6 api_server.py"
   ]
  },
  {
   "cell_type": "markdown",
   "metadata": {},
   "source": [
    "## Start of good code to run loops to collect data"
   ]
  },
  {
   "cell_type": "code",
   "execution_count": 5,
   "metadata": {},
   "outputs": [],
   "source": [
    "#settings / loading\n",
    "import requests\n",
    "import pandas as pd\n",
    "import os\n",
    "from random import random\n",
    "import time\n",
    "write2database = True #write to influx?\n",
    "post_settings = False #whether to send new magnet settings\n",
    "setting_list = [\"QTA800:CONTROL_Y1\",\"QTA800:CONTROL_X1\",\"QTA800:CONTROL_Y2\",\n",
    "                \"STA801:CONTROL_X\",\"STA801:CONTROL_Y\",\n",
    "                \"QDA800:CONTROL_X\",\"QDA800:CONTROL_Y\"]#,\n",
    "                # \"MGA002:CONTROL\",\n",
    "                # \"QDA002:CONTROL_X\",\"QDA002:CONTROL_Y\",\n",
    "                # \"STA004:CONTROL_X\",\"STA004:CONTROL_Y\",\n",
    "                # \"QDA001:CONTROL_X\",\"QDA001:CONTROL_Y\",\n",
    "                # \"MGA001:CONTROL\",\n",
    "                # \"QTA001:CONTROL_X1\",\"QTA001:CONTROL_X2\",\"QTA001:CONTROL_Y\",\n",
    "                # \"STA003:CONTROL_X\",\"STA003:CONTROL_Y\",\n",
    "                # \"STA002:CONTROL_X\",\"STA002:CONTROL_Y\",\n",
    "                # \"STA001:CONTROL_X\",\"STA001:CONTROL_Y\"] #which magnets to read\n",
    "#setting_list = [\"R501:PHASEB\",\"R501:CONTROL_AMP\"]\n",
    "max_vals = [10.0,15.0,20.0,1.5,1.5] #max field setting for bl magnets\n",
    "min_vals = [0.5,0.5,0.5,-1.5,-1.5]\n",
    "off_vals = [0.0,0.0,0.0,-1.1,-1.1]\n",
    "delta_vals = [0.5,0.5,0.5,0.02,0.02] #amount by which to change \n",
    "orig_vals = [4.051278,5.904756,5.272509,-1.036212,0.827078] #initial tune settings before scans\n",
    "num_loops = 10000 #finite numer of samples if using\n",
    "num_samples = 2 #times to measure the quads before changing them # not used at present"
   ]
  },
  {
   "cell_type": "code",
   "execution_count": 6,
   "metadata": {},
   "outputs": [
    {
     "name": "stdout",
     "output_type": "stream",
     "text": [
      "On Loop Number:  0\n",
      "On Loop Number:  1\n",
      "On Loop Number:  2\n",
      "On Loop Number:  3\n",
      "On Loop Number:  4\n",
      "On Loop Number:  5\n",
      "On Loop Number:  6\n",
      "On Loop Number:  7\n",
      "On Loop Number:  8\n",
      "On Loop Number:  9\n",
      "On Loop Number:  10\n",
      "On Loop Number:  11\n",
      "On Loop Number:  12\n",
      "On Loop Number:  13\n",
      "On Loop Number:  14\n",
      "On Loop Number:  15\n",
      "On Loop Number:  16\n",
      "On Loop Number:  17\n",
      "On Loop Number:  18\n",
      "On Loop Number:  19\n",
      "On Loop Number:  20\n",
      "On Loop Number:  21\n",
      "On Loop Number:  22\n",
      "On Loop Number:  23\n",
      "On Loop Number:  24\n",
      "On Loop Number:  25\n",
      "On Loop Number:  26\n",
      "On Loop Number:  27\n",
      "On Loop Number:  28\n",
      "On Loop Number:  29\n",
      "On Loop Number:  30\n",
      "On Loop Number:  31\n",
      "On Loop Number:  32\n",
      "On Loop Number:  33\n",
      "On Loop Number:  34\n",
      "On Loop Number:  35\n",
      "On Loop Number:  36\n",
      "On Loop Number:  37\n",
      "On Loop Number:  38\n",
      "On Loop Number:  39\n",
      "On Loop Number:  40\n",
      "On Loop Number:  41\n",
      "On Loop Number:  42\n",
      "On Loop Number:  43\n",
      "On Loop Number:  44\n",
      "On Loop Number:  45\n",
      "On Loop Number:  46\n",
      "On Loop Number:  47\n",
      "On Loop Number:  48\n",
      "On Loop Number:  49\n",
      "On Loop Number:  50\n",
      "On Loop Number:  51\n",
      "On Loop Number:  52\n",
      "On Loop Number:  53\n",
      "On Loop Number:  54\n",
      "On Loop Number:  55\n",
      "On Loop Number:  56\n",
      "On Loop Number:  57\n",
      "On Loop Number:  58\n",
      "On Loop Number:  59\n",
      "On Loop Number:  60\n",
      "On Loop Number:  61\n",
      "On Loop Number:  62\n",
      "On Loop Number:  63\n",
      "On Loop Number:  64\n",
      "On Loop Number:  65\n",
      "On Loop Number:  66\n",
      "On Loop Number:  67\n",
      "On Loop Number:  68\n",
      "On Loop Number:  69\n",
      "On Loop Number:  70\n",
      "On Loop Number:  71\n"
     ]
    },
    {
     "ename": "KeyboardInterrupt",
     "evalue": "",
     "output_type": "error",
     "traceback": [
      "\u001b[0;31m---------------------------------------------------------------------------\u001b[0m",
      "\u001b[0;31mKeyboardInterrupt\u001b[0m                         Traceback (most recent call last)",
      "\u001b[0;32m<ipython-input-6-4aef215ec60d>\u001b[0m in \u001b[0;36m<module>\u001b[0;34m\u001b[0m\n\u001b[1;32m     21\u001b[0m             \u001b[0mdbwrite\u001b[0m \u001b[0;34m=\u001b[0m \u001b[0;34m\"influx -execute \\'insert bl,tag={} value={}\\' -database=db\"\u001b[0m\u001b[0;34m.\u001b[0m\u001b[0mformat\u001b[0m\u001b[0;34m(\u001b[0m\u001b[0mtemp_mon_name\u001b[0m\u001b[0;34m,\u001b[0m\u001b[0mdf\u001b[0m\u001b[0;34m[\u001b[0m\u001b[0mtemp_mon_name\u001b[0m\u001b[0;34m]\u001b[0m\u001b[0;34m.\u001b[0m\u001b[0miat\u001b[0m\u001b[0;34m[\u001b[0m\u001b[0;36m0\u001b[0m\u001b[0;34m]\u001b[0m\u001b[0;34m)\u001b[0m\u001b[0;34m\u001b[0m\u001b[0;34m\u001b[0m\u001b[0m\n\u001b[1;32m     22\u001b[0m             \u001b[0mos\u001b[0m\u001b[0;34m.\u001b[0m\u001b[0msystem\u001b[0m\u001b[0;34m(\u001b[0m\u001b[0mdbwrite\u001b[0m\u001b[0;34m)\u001b[0m\u001b[0;34m\u001b[0m\u001b[0;34m\u001b[0m\u001b[0m\n\u001b[0;32m---> 23\u001b[0;31m     \u001b[0mtime\u001b[0m\u001b[0;34m.\u001b[0m\u001b[0msleep\u001b[0m\u001b[0;34m(\u001b[0m\u001b[0;36m1\u001b[0m\u001b[0;34m)\u001b[0m \u001b[0;31m#time to see detector rates\u001b[0m\u001b[0;34m\u001b[0m\u001b[0;34m\u001b[0m\u001b[0m\n\u001b[0m",
      "\u001b[0;31mKeyboardInterrupt\u001b[0m: "
     ]
    }
   ],
   "source": [
    "#initial read and need to save in df idealy\n",
    "for loops in range(1000):\n",
    "    print(\"On Loop Number: \",loops)\n",
    "    i=0\n",
    "    for names in setting_list:\n",
    "    #print(names)\n",
    "        #read present setting\n",
    "        if (write2database):\n",
    "            #for names in setting_list:\n",
    "            #read new settings\n",
    "            resp = requests.get('http://146.139.66.23:5000/', json={\n",
    "            \"setting\": [names],\n",
    "            \"fcup\": [],\n",
    "            \"bpm\": [] })\n",
    "            df = pd.json_normalize(resp.json())\n",
    "            temp_cntrl_name = \"setting.control.\" + names\n",
    "            temp_mon_name = \"setting.monitor.\" + names\n",
    "            # print(\"Monitor: {}: {:.3f} [{:.3f}]\".format(temp_mon_name,df[temp_mon_name].iat[0],df[temp_cntrl_name].iat[0]))\n",
    "            dbwrite = \"influx -execute \\'insert bl,tag={} value={}\\' -database=db\".format(temp_cntrl_name,df[temp_cntrl_name].iat[0])\n",
    "            os.system(dbwrite)\n",
    "            dbwrite = \"influx -execute \\'insert bl,tag={} value={}\\' -database=db\".format(temp_mon_name,df[temp_mon_name].iat[0])\n",
    "            os.system(dbwrite)\n",
    "    time.sleep(1) #time to see detector rates"
   ]
  },
  {
   "cell_type": "code",
   "execution_count": null,
   "metadata": {},
   "outputs": [],
   "source": []
  }
 ],
 "metadata": {
  "interpreter": {
   "hash": "31f2aee4e71d21fbe5cf8b01ff0e069b9275f58929596ceb00d14d90e3e16cd6"
  },
  "kernelspec": {
   "display_name": "Python 3.6.9 64-bit",
   "language": "python",
   "name": "python3"
  },
  "language_info": {
   "codemirror_mode": {
    "name": "ipython",
    "version": 3
   },
   "file_extension": ".py",
   "mimetype": "text/x-python",
   "name": "python",
   "nbconvert_exporter": "python",
   "pygments_lexer": "ipython3",
   "version": "3.6.9"
  },
  "vscode": {
   "interpreter": {
    "hash": "b0fa6594d8f4cbf19f97940f81e996739fb7646882a419484c72d19e05852a7e"
   }
  }
 },
 "nbformat": 4,
 "nbformat_minor": 2
}
